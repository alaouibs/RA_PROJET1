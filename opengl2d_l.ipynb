{
 "cells": [
  {
   "cell_type": "markdown",
   "metadata": {},
   "source": [
    "Import libraries"
   ]
  },
  {
   "cell_type": "code",
   "execution_count": 1,
   "metadata": {},
   "outputs": [],
   "source": [
    "from OpenGL.GL import *\n",
    "from OpenGL.GLU import *\n",
    "from OpenGL.GLUT import *\n",
    "import numpy as np\n",
    "import sys\n",
    "import time"
   ]
  },
  {
   "cell_type": "markdown",
   "metadata": {},
   "source": [
    "Initializing settings"
   ]
  },
  {
   "cell_type": "code",
   "execution_count": 2,
   "metadata": {},
   "outputs": [],
   "source": [
    "# Some api in the chain is translating the keystrokes to this binary string\n",
    "# so instead of saying: ESCAPE = 27, we use the following.\n",
    "ESCAPE = b'\\x1b'\n",
    "\n",
    "# Number of the glut window.\n",
    "window = 0\n",
    "\n",
    "def init():\n",
    "    # Commands # 1\n",
    "    glEnable(GL_POINT_SMOOTH) # 1.1 If enabled, draw points with proper filtering. Otherwise, draw aliased points.\n",
    "                              #     Permet d'afficher les points en \"lissant\" les contours. Les points sont rond au lieu d'être caréé \n",
    "    glEnable(GL_LINE_SMOOTH)  # 1.2 If enabled, draw lines with correct filtering. Otherwise, draw aliased lines.\n",
    "                              #     Cette fonction permet de lisser les lignes.\n",
    "    glEnable(GL_BLEND)        # 1.3 If enabled, blend the computed fragment color values with the values in the color buffers.\n",
    "                              #     .\n",
    "    glBlendFunc(GL_SRC_ALPHA, GL_ONE_MINUS_SRC_ALPHA) # 1.4\n",
    "    # Commands # 2\n",
    "    glClearColor(1.0, 1.0, 1.0, 1.0) # 2.1 Clear the windows area with the corresponding bit (RGBA)\n",
    "    gluOrtho2D(-5.0, 5.0, -5.0, 5.0) # 2.2 Set a 2D orthographic region"
   ]
  },
  {
   "cell_type": "markdown",
   "metadata": {},
   "source": [
    "Function to be plotted"
   ]
  },
  {
   "cell_type": "code",
   "execution_count": 3,
   "metadata": {},
   "outputs": [],
   "source": [
    "def func_x2(input_vec):\n",
    "    vertices = [[x, x*x] for x in input_vec]\n",
    "    return np.array(vertices)\n",
    "def func_sin(input_vec):\n",
    "    vertices = [[x, sin(x)] for x in input_vec]\n",
    "    return np.array(vertices)\n",
    "def func_random_wh_Gaussian(input_vec):\n",
    "    np.random.seed(0) # pour que les valeurs ne changent pas\n",
    "    vertices = [[x, np.random.normal(0, 0.1)] for x in input_vec]\n",
    "    return np.array(vertices)"
   ]
  },
  {
   "cell_type": "code",
   "execution_count": null,
   "metadata": {},
   "outputs": [],
   "source": []
  },
  {
   "cell_type": "markdown",
   "metadata": {},
   "source": [
    "Plotting function in OpenGL"
   ]
  },
  {
   "cell_type": "code",
   "execution_count": 4,
   "metadata": {},
   "outputs": [],
   "source": [
    "from math import sin\n",
    "\n",
    "def plot_func():\n",
    "    \n",
    "    # Commands # 3\n",
    "    glClear(GL_COLOR_BUFFER_BIT) # 3.1 Used the value defined précémment par glClearColor pour clear le buffer\n",
    "    glColor3f(0.0, 0.0, 0.0)     # 3.2 set the color to be used for the next operation (draw the axis)\n",
    "    glPointSize(3.0)             # 3.3 define the size for points\n",
    "    glLineWidth(1.0)             # 3.4 define size for line\n",
    "    \n",
    "    # Commands # 4               # draw axis\n",
    "    glBegin(GL_LINES)            \n",
    "    glVertex2f(-5.0, 0.0)       # x\n",
    "    glVertex2f(5.0, 0.0)        # x\n",
    "    glVertex2f(0.0, 5.0)        # y\n",
    "    glVertex2f(0.0, -5.0)       # y\n",
    "    glEnd()\n",
    "    \n",
    "    # draw horizontal grid\n",
    "    \n",
    "    gridPoints = [[-5, -4, -3, -2, -1, 0, 1 , 2, 3, 4 ,5], [-5, -4, -3, -2, -1, 0, 1 , 2, 3, 4 ,5]]\n",
    "    \n",
    "    for i in range(-5,5):\n",
    "        # grid points\n",
    "        for j in range(-5, 5):\n",
    "            glBegin(GL_POINTS)\n",
    "            glColor3f(0.1,0.1,0.5)\n",
    "            glVertex2fv([i,j])\n",
    "            glEnd()\n",
    "            \n",
    "        # vertical grid\n",
    "        for j in range(-5, 5):\n",
    "            glBegin(GL_LINES)\n",
    "            glColor3f(0.8,0.2,0.2)\n",
    "            glVertex2fv([i,j])\n",
    "            glVertex2fv([i,j+1])\n",
    "            glEnd()\n",
    "        \n",
    "        # horizontal grid\n",
    "        for j in range(-5, 5):\n",
    "            glBegin(GL_LINES)\n",
    "            glColor3f(0.8,0.2,0.2)\n",
    "            glVertex2fv([j,i])\n",
    "            glVertex2fv([j+1,i])\n",
    "            glEnd()\n",
    "\n",
    "    # Set points to plot graphic\n",
    "    vertices=func_x2(np.linspace(-5.0,5.0,101))\n",
    "    \n",
    "    # Commands # 5    # draw every segments with the vertices #drawn using the color defined with glColor3f\n",
    "    for i in range(len(vertices)-1):\n",
    "        glBegin(GL_LINES)\n",
    "        glColor3f(0.8,0.2,0.2)\n",
    "        glVertex2fv(vertices[i])\n",
    "        glVertex2fv(vertices[i+1])\n",
    "        glEnd()\n",
    "    \n",
    "    # Commands # 6  # Draw all points contained in vertices with color defined in glColor3f\n",
    "    for i in range(len(vertices)):\n",
    "        glBegin(GL_POINTS)\n",
    "        glColor3f(0.1,0.5,0.1)\n",
    "        glVertex2fv(vertices[i])\n",
    "        glEnd()\n",
    "    \n",
    "    #Plot sin\n",
    "    vertices=func_sin(np.linspace(-5.0,5.0,101))\n",
    "    \n",
    "    for i in range(len(vertices)-1):\n",
    "        glBegin(GL_LINES)\n",
    "        glColor3f(0.8,0.2,0.2)\n",
    "        glVertex2fv(vertices[i])\n",
    "        glVertex2fv(vertices[i+1])\n",
    "        glEnd()\n",
    "    \n",
    "    for i in range(len(vertices)):\n",
    "        glBegin(GL_POINTS)\n",
    "        glColor3f(0.1,0.5,0.1)\n",
    "        glVertex2fv(vertices[i])\n",
    "        glEnd()\n",
    "        \n",
    "    #Plot \n",
    "    \n",
    "    vertices = func_random_wh_Gaussian(np.linspace(-5.0,5.0,101))\n",
    "     \n",
    "    for i in range(len(vertices)-1):\n",
    "        glBegin(GL_LINES)\n",
    "        glColor3f(0.8,0.2,0.2)\n",
    "        glVertex2fv(vertices[i])\n",
    "        glVertex2fv(vertices[i+1])\n",
    "        glEnd()\n",
    "    \n",
    "    for i in range(len(vertices)):\n",
    "        glBegin(GL_POINTS)\n",
    "        glColor3f(0.1,0.5,0.1)\n",
    "        glVertex2fv(vertices[i])\n",
    "        glEnd()\n",
    "    \n",
    "    # Commands # 7\n",
    "    # since this is double buffered, swap the buffers to display what just got drawn.\n",
    "    # time.sleep(...)\n",
    "    glutSwapBuffers()"
   ]
  },
  {
   "cell_type": "markdown",
   "metadata": {},
   "source": [
    "Function that checks if a key has been pressed on the keyboard"
   ]
  },
  {
   "cell_type": "code",
   "execution_count": 5,
   "metadata": {},
   "outputs": [],
   "source": [
    "# The function called whenever a key is pressed. Note the use of Python tuples to pass in: (key, x, y)  \n",
    "def keyPressed(*args):\n",
    "    print(args[0])\n",
    "    # If escape is pressed, kill everything.\n",
    "    if args[0]==ESCAPE:\n",
    "        glutDestroyWindow(window)\n",
    "        sys.exit(0)"
   ]
  },
  {
   "cell_type": "markdown",
   "metadata": {},
   "source": [
    "Main function with initialization, drawing and querying for external inputs (keyboard)"
   ]
  },
  {
   "cell_type": "code",
   "execution_count": 6,
   "metadata": {},
   "outputs": [],
   "source": [
    "def main():\n",
    "    global window\n",
    "    glutInit(())\n",
    "    glutInitDisplayMode(GLUT_SINGLE|GLUT_RGB)\n",
    "    glutInitWindowPosition(50,50)\n",
    "    glutInitWindowSize(1900,1080)\n",
    "    glutCreateWindow(b\"Function Plotter\")\n",
    "    glutDisplayFunc(plot_func)\n",
    "    # When we are doing nothing, redraw the scene.\n",
    "    glutIdleFunc(plot_func)\n",
    "    # Register the function called when the keyboard is pressed.  \n",
    "    glutKeyboardFunc(keyPressed)\n",
    "    # Initialization\n",
    "    init()\n",
    "    # Main drawing loop\n",
    "    glutMainLoop()"
   ]
  },
  {
   "cell_type": "markdown",
   "metadata": {},
   "source": [
    "Executing main function"
   ]
  },
  {
   "cell_type": "code",
   "execution_count": null,
   "metadata": {},
   "outputs": [
    {
     "name": "stdout",
     "output_type": "stream",
     "text": [
      "Hit ESC key to quit.\n",
      "b'\\x1b'\n"
     ]
    }
   ],
   "source": [
    "# Print message to console, and kick off the main to get it rolling.\n",
    "print(\"Hit ESC key to quit.\")\n",
    "main()"
   ]
  },
  {
   "cell_type": "code",
   "execution_count": null,
   "metadata": {},
   "outputs": [],
   "source": []
  },
  {
   "cell_type": "code",
   "execution_count": null,
   "metadata": {},
   "outputs": [],
   "source": []
  },
  {
   "cell_type": "code",
   "execution_count": null,
   "metadata": {},
   "outputs": [],
   "source": []
  }
 ],
 "metadata": {
  "anaconda-cloud": {},
  "kernelspec": {
   "display_name": "Python 3",
   "language": "python",
   "name": "python3"
  },
  "language_info": {
   "codemirror_mode": {
    "name": "ipython",
    "version": 3
   },
   "file_extension": ".py",
   "mimetype": "text/x-python",
   "name": "python",
   "nbconvert_exporter": "python",
   "pygments_lexer": "ipython3",
   "version": "3.6.4"
  }
 },
 "nbformat": 4,
 "nbformat_minor": 1
}
